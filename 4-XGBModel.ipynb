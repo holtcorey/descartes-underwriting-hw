{
 "cells": [
  {
   "cell_type": "code",
   "execution_count": 1,
   "metadata": {},
   "outputs": [],
   "source": [
    "import pandas as pd\n",
    "import numpy as np\n",
    "\n",
    "import matplotlib.pyplot as plt\n",
    "from sklearn.preprocessing import OneHotEncoder"
   ]
  },
  {
   "cell_type": "code",
   "execution_count": 2,
   "metadata": {},
   "outputs": [
    {
     "data": {
      "text/html": [
       "<div>\n",
       "<style scoped>\n",
       "    .dataframe tbody tr th:only-of-type {\n",
       "        vertical-align: middle;\n",
       "    }\n",
       "\n",
       "    .dataframe tbody tr th {\n",
       "        vertical-align: top;\n",
       "    }\n",
       "\n",
       "    .dataframe thead th {\n",
       "        text-align: right;\n",
       "    }\n",
       "</style>\n",
       "<table border=\"1\" class=\"dataframe\">\n",
       "  <thead>\n",
       "    <tr style=\"text-align: right;\">\n",
       "      <th></th>\n",
       "      <th>TARGET_FLAG</th>\n",
       "      <th>KIDSDRIV</th>\n",
       "      <th>AGE</th>\n",
       "      <th>HOMEKIDS</th>\n",
       "      <th>YOJ</th>\n",
       "      <th>INCOME</th>\n",
       "      <th>PARENT1</th>\n",
       "      <th>HOME_VAL</th>\n",
       "      <th>MSTATUS</th>\n",
       "      <th>EDUCATION</th>\n",
       "      <th>...</th>\n",
       "      <th>Student</th>\n",
       "      <th>z_Blue Collar</th>\n",
       "      <th>Commercial</th>\n",
       "      <th>Minivan</th>\n",
       "      <th>Panel Truck</th>\n",
       "      <th>Pickup</th>\n",
       "      <th>Sports Car</th>\n",
       "      <th>Van</th>\n",
       "      <th>z_SUV</th>\n",
       "      <th>Highly Urban/ Urban</th>\n",
       "    </tr>\n",
       "  </thead>\n",
       "  <tbody>\n",
       "    <tr>\n",
       "      <th>0</th>\n",
       "      <td>0</td>\n",
       "      <td>0</td>\n",
       "      <td>60.0</td>\n",
       "      <td>0</td>\n",
       "      <td>11.0</td>\n",
       "      <td>11.117643</td>\n",
       "      <td>0</td>\n",
       "      <td>1.000000</td>\n",
       "      <td>0</td>\n",
       "      <td>3</td>\n",
       "      <td>...</td>\n",
       "      <td>0.0</td>\n",
       "      <td>0.0</td>\n",
       "      <td>0.0</td>\n",
       "      <td>1.0</td>\n",
       "      <td>0.0</td>\n",
       "      <td>0.0</td>\n",
       "      <td>0.0</td>\n",
       "      <td>0.0</td>\n",
       "      <td>0.0</td>\n",
       "      <td>1.0</td>\n",
       "    </tr>\n",
       "    <tr>\n",
       "      <th>1</th>\n",
       "      <td>0</td>\n",
       "      <td>0</td>\n",
       "      <td>43.0</td>\n",
       "      <td>0</td>\n",
       "      <td>11.0</td>\n",
       "      <td>11.423537</td>\n",
       "      <td>0</td>\n",
       "      <td>12.457811</td>\n",
       "      <td>0</td>\n",
       "      <td>0</td>\n",
       "      <td>...</td>\n",
       "      <td>0.0</td>\n",
       "      <td>1.0</td>\n",
       "      <td>1.0</td>\n",
       "      <td>1.0</td>\n",
       "      <td>0.0</td>\n",
       "      <td>0.0</td>\n",
       "      <td>0.0</td>\n",
       "      <td>0.0</td>\n",
       "      <td>0.0</td>\n",
       "      <td>1.0</td>\n",
       "    </tr>\n",
       "    <tr>\n",
       "      <th>2</th>\n",
       "      <td>0</td>\n",
       "      <td>0</td>\n",
       "      <td>35.0</td>\n",
       "      <td>1</td>\n",
       "      <td>10.0</td>\n",
       "      <td>9.682779</td>\n",
       "      <td>0</td>\n",
       "      <td>11.729576</td>\n",
       "      <td>1</td>\n",
       "      <td>0</td>\n",
       "      <td>...</td>\n",
       "      <td>0.0</td>\n",
       "      <td>0.0</td>\n",
       "      <td>0.0</td>\n",
       "      <td>0.0</td>\n",
       "      <td>0.0</td>\n",
       "      <td>0.0</td>\n",
       "      <td>0.0</td>\n",
       "      <td>0.0</td>\n",
       "      <td>1.0</td>\n",
       "      <td>1.0</td>\n",
       "    </tr>\n",
       "    <tr>\n",
       "      <th>3</th>\n",
       "      <td>0</td>\n",
       "      <td>0</td>\n",
       "      <td>51.0</td>\n",
       "      <td>0</td>\n",
       "      <td>14.0</td>\n",
       "      <td>NaN</td>\n",
       "      <td>0</td>\n",
       "      <td>12.632160</td>\n",
       "      <td>1</td>\n",
       "      <td>0</td>\n",
       "      <td>...</td>\n",
       "      <td>0.0</td>\n",
       "      <td>1.0</td>\n",
       "      <td>0.0</td>\n",
       "      <td>1.0</td>\n",
       "      <td>0.0</td>\n",
       "      <td>0.0</td>\n",
       "      <td>0.0</td>\n",
       "      <td>0.0</td>\n",
       "      <td>0.0</td>\n",
       "      <td>1.0</td>\n",
       "    </tr>\n",
       "    <tr>\n",
       "      <th>4</th>\n",
       "      <td>0</td>\n",
       "      <td>0</td>\n",
       "      <td>50.0</td>\n",
       "      <td>0</td>\n",
       "      <td>NaN</td>\n",
       "      <td>11.652566</td>\n",
       "      <td>0</td>\n",
       "      <td>12.404616</td>\n",
       "      <td>1</td>\n",
       "      <td>3</td>\n",
       "      <td>...</td>\n",
       "      <td>0.0</td>\n",
       "      <td>0.0</td>\n",
       "      <td>0.0</td>\n",
       "      <td>0.0</td>\n",
       "      <td>0.0</td>\n",
       "      <td>0.0</td>\n",
       "      <td>0.0</td>\n",
       "      <td>0.0</td>\n",
       "      <td>1.0</td>\n",
       "      <td>1.0</td>\n",
       "    </tr>\n",
       "  </tbody>\n",
       "</table>\n",
       "<p>5 rows × 36 columns</p>\n",
       "</div>"
      ],
      "text/plain": [
       "   TARGET_FLAG  KIDSDRIV   AGE  HOMEKIDS   YOJ     INCOME  PARENT1   HOME_VAL  \\\n",
       "0            0         0  60.0         0  11.0  11.117643        0   1.000000   \n",
       "1            0         0  43.0         0  11.0  11.423537        0  12.457811   \n",
       "2            0         0  35.0         1  10.0   9.682779        0  11.729576   \n",
       "3            0         0  51.0         0  14.0        NaN        0  12.632160   \n",
       "4            0         0  50.0         0   NaN  11.652566        0  12.404616   \n",
       "\n",
       "   MSTATUS  EDUCATION  ...  Student  z_Blue Collar  Commercial  Minivan  \\\n",
       "0        0          3  ...      0.0            0.0         0.0      1.0   \n",
       "1        0          0  ...      0.0            1.0         1.0      1.0   \n",
       "2        1          0  ...      0.0            0.0         0.0      0.0   \n",
       "3        1          0  ...      0.0            1.0         0.0      1.0   \n",
       "4        1          3  ...      0.0            0.0         0.0      0.0   \n",
       "\n",
       "   Panel Truck  Pickup  Sports Car  Van  z_SUV  Highly Urban/ Urban  \n",
       "0          0.0     0.0         0.0  0.0    0.0                  1.0  \n",
       "1          0.0     0.0         0.0  0.0    0.0                  1.0  \n",
       "2          0.0     0.0         0.0  0.0    1.0                  1.0  \n",
       "3          0.0     0.0         0.0  0.0    0.0                  1.0  \n",
       "4          0.0     0.0         0.0  0.0    1.0                  1.0  \n",
       "\n",
       "[5 rows x 36 columns]"
      ]
     },
     "execution_count": 2,
     "metadata": {},
     "output_type": "execute_result"
    }
   ],
   "source": [
    "df_train = pd.read_csv(\"notebook_insights/preprocessed_train.csv\")\n",
    "df_train.head()"
   ]
  },
  {
   "cell_type": "markdown",
   "metadata": {},
   "source": [
    "# Data preprocessing"
   ]
  },
  {
   "cell_type": "code",
   "execution_count": 3,
   "metadata": {},
   "outputs": [],
   "source": [
    "TARGET = 'TARGET_FLAG'\n",
    "\n",
    "y = df_train[TARGET].values\n",
    "X = df_train.drop(columns=TARGET)"
   ]
  },
  {
   "cell_type": "code",
   "execution_count": 4,
   "metadata": {},
   "outputs": [],
   "source": [
    "from sklearn.pipeline import Pipeline\n",
    "from sklearn.preprocessing import StandardScaler\n",
    "from sklearn.impute import SimpleImputer\n",
    "from sklearn.compose import ColumnTransformer\n",
    "\n",
    "numeric_features = ['AGE',\n",
    "                    'INCOME',\n",
    "                    'HOME_VAL',\n",
    "                    'BLUEBOOK',\n",
    "                    'OLDCLAIM',\n",
    "                    'CAR_AGE']\n",
    "\n",
    "numeric_transformer = Pipeline(steps=[\n",
    "    ('imputer', SimpleImputer(missing_values = np.nan, strategy='constant', fill_value=0))])\n",
    "\n",
    "preprocessor = ColumnTransformer(\n",
    "    transformers=[\n",
    "        ('num', numeric_transformer, numeric_features),],\n",
    "    remainder='passthrough')"
   ]
  },
  {
   "cell_type": "markdown",
   "metadata": {},
   "source": [
    "# Model definition"
   ]
  },
  {
   "cell_type": "code",
   "execution_count": 5,
   "metadata": {},
   "outputs": [],
   "source": [
    "from xgboost import XGBClassifier\n",
    "\n",
    "model = XGBClassifier(objective='binary:logistic',\n",
    "                              use_label_encoder=False,\n",
    "                              eval_metric='logloss',\n",
    "                              random_state='42')\n",
    "\n",
    "pipe = Pipeline(steps=[('preprocessor', preprocessor),\n",
    "                      ('clf', model)])"
   ]
  },
  {
   "cell_type": "markdown",
   "metadata": {},
   "source": [
    "# Split the data\n",
    "\n",
    "We split the data into two folds: one for searching hyperparameters, which we name X_for_gridsearch, the second is to measure the generalization power of our model, which we name X_future_validation."
   ]
  },
  {
   "cell_type": "code",
   "execution_count": 6,
   "metadata": {},
   "outputs": [],
   "source": [
    "from sklearn.model_selection import train_test_split, StratifiedKFold\n",
    "\n",
    "random_state = 4\n",
    "n_splits = 4\n",
    "\n",
    "# We keep one fold for validation\n",
    "X_for_gridsearch, X_future_validation, y_for_gridsearch, y_future_validation \\\n",
    "= train_test_split(X, y, test_size=0.1, random_state=random_state, stratify=y)\n",
    "\n",
    "# We use k-fold on the remaining data to search over hyper-parameters\n",
    "kf = StratifiedKFold(n_splits=n_splits, shuffle=True, random_state=random_state)"
   ]
  },
  {
   "cell_type": "markdown",
   "metadata": {},
   "source": [
    "# Model training\n",
    "\n",
    "We perform k-fold in order to obtain model performances."
   ]
  },
  {
   "cell_type": "code",
   "execution_count": 7,
   "metadata": {},
   "outputs": [
    {
     "name": "stdout",
     "output_type": "stream",
     "text": [
      "Fitting 4 folds for each of 20 candidates, totalling 80 fits\n"
     ]
    },
    {
     "name": "stderr",
     "output_type": "stream",
     "text": [
      "[Parallel(n_jobs=1)]: Using backend SequentialBackend with 1 concurrent workers.\n",
      "[Parallel(n_jobs=1)]: Done  80 out of  80 | elapsed:  1.3min finished\n"
     ]
    },
    {
     "name": "stdout",
     "output_type": "stream",
     "text": [
      "0.5467310085748781\n"
     ]
    }
   ],
   "source": [
    "from sklearn.model_selection import RandomizedSearchCV\n",
    "\n",
    "param_grid  = dict(clf__n_estimators  = np.linspace(100, 300, 6).astype(int),\n",
    "                           clf__max_depth     = [5, 8, 10, 15, 20, 30, 50, 75, 100],\n",
    "                           clf__alpha         = [0.01, 0.05, 0.1, 0.3, 0.5, 1, 10],\n",
    "                           clf__learning_rate = [0.1, 0.08, 0.05, 0.02, 0.01],\n",
    "                 )\n",
    "\n",
    "grid = RandomizedSearchCV(pipe,\n",
    "                          param_distributions=param_grid,\n",
    "                          cv=kf,\n",
    "                          verbose=1,\n",
    "                          scoring='f1',\n",
    "                          random_state=42,\n",
    "                          n_iter=20,\n",
    "                         )\n",
    "grid.fit(X_for_gridsearch, y_for_gridsearch)\n",
    "print(grid.best_score_)"
   ]
  },
  {
   "cell_type": "code",
   "execution_count": 8,
   "metadata": {},
   "outputs": [
    {
     "data": {
      "text/html": [
       "<div>\n",
       "<style scoped>\n",
       "    .dataframe tbody tr th:only-of-type {\n",
       "        vertical-align: middle;\n",
       "    }\n",
       "\n",
       "    .dataframe tbody tr th {\n",
       "        vertical-align: top;\n",
       "    }\n",
       "\n",
       "    .dataframe thead th {\n",
       "        text-align: right;\n",
       "    }\n",
       "</style>\n",
       "<table border=\"1\" class=\"dataframe\">\n",
       "  <thead>\n",
       "    <tr style=\"text-align: right;\">\n",
       "      <th></th>\n",
       "      <th>split0_test_score</th>\n",
       "      <th>split1_test_score</th>\n",
       "      <th>split2_test_score</th>\n",
       "      <th>mean_test_score</th>\n",
       "      <th>std_test_score</th>\n",
       "      <th>rank_test_score</th>\n",
       "    </tr>\n",
       "  </thead>\n",
       "  <tbody>\n",
       "    <tr>\n",
       "      <th>2</th>\n",
       "      <td>0.544578</td>\n",
       "      <td>0.576151</td>\n",
       "      <td>0.521845</td>\n",
       "      <td>0.546731</td>\n",
       "      <td>0.019334</td>\n",
       "      <td>1</td>\n",
       "    </tr>\n",
       "    <tr>\n",
       "      <th>6</th>\n",
       "      <td>0.526829</td>\n",
       "      <td>0.554900</td>\n",
       "      <td>0.532338</td>\n",
       "      <td>0.537015</td>\n",
       "      <td>0.010661</td>\n",
       "      <td>2</td>\n",
       "    </tr>\n",
       "    <tr>\n",
       "      <th>4</th>\n",
       "      <td>0.515971</td>\n",
       "      <td>0.560479</td>\n",
       "      <td>0.515152</td>\n",
       "      <td>0.531359</td>\n",
       "      <td>0.018396</td>\n",
       "      <td>3</td>\n",
       "    </tr>\n",
       "    <tr>\n",
       "      <th>8</th>\n",
       "      <td>0.517282</td>\n",
       "      <td>0.540925</td>\n",
       "      <td>0.526961</td>\n",
       "      <td>0.528734</td>\n",
       "      <td>0.008426</td>\n",
       "      <td>4</td>\n",
       "    </tr>\n",
       "  </tbody>\n",
       "</table>\n",
       "</div>"
      ],
      "text/plain": [
       "   split0_test_score  split1_test_score  split2_test_score  mean_test_score  \\\n",
       "2           0.544578           0.576151           0.521845         0.546731   \n",
       "6           0.526829           0.554900           0.532338         0.537015   \n",
       "4           0.515971           0.560479           0.515152         0.531359   \n",
       "8           0.517282           0.540925           0.526961         0.528734   \n",
       "\n",
       "   std_test_score  rank_test_score  \n",
       "2        0.019334                1  \n",
       "6        0.010661                2  \n",
       "4        0.018396                3  \n",
       "8        0.008426                4  "
      ]
     },
     "execution_count": 8,
     "metadata": {},
     "output_type": "execute_result"
    }
   ],
   "source": [
    "cv_results = pd.DataFrame(grid.cv_results_)\n",
    "cv_results = cv_results.sort_values(\"mean_test_score\", ascending=False)\n",
    "cv_results[['split0_test_score',\n",
    "            'split1_test_score',\n",
    "            'split2_test_score',\n",
    "            'mean_test_score',\n",
    "            'std_test_score',\n",
    "            'rank_test_score']].head(4)"
   ]
  },
  {
   "cell_type": "markdown",
   "metadata": {},
   "source": [
    "# Model evaluation\n",
    "\n",
    "We evaluate the model on the never seen validation set. We got an improvement compared to the baseline. Further feature engineering could help increasing the F1 score."
   ]
  },
  {
   "cell_type": "code",
   "execution_count": 54,
   "metadata": {},
   "outputs": [
    {
     "data": {
      "text/plain": [
       "0.6036745406824148"
      ]
     },
     "execution_count": 54,
     "metadata": {},
     "output_type": "execute_result"
    }
   ],
   "source": [
    "from sklearn.metrics import f1_score\n",
    "\n",
    "y_pred = grid.predict(X_future_validation)\n",
    "f1_score(y_future_validation, y_pred)"
   ]
  },
  {
   "cell_type": "code",
   "execution_count": null,
   "metadata": {},
   "outputs": [],
   "source": []
  }
 ],
 "metadata": {
  "kernelspec": {
   "display_name": "Python 3",
   "language": "python",
   "name": "python3"
  },
  "language_info": {
   "codemirror_mode": {
    "name": "ipython",
    "version": 3
   },
   "file_extension": ".py",
   "mimetype": "text/x-python",
   "name": "python",
   "nbconvert_exporter": "python",
   "pygments_lexer": "ipython3",
   "version": "3.8.3"
  }
 },
 "nbformat": 4,
 "nbformat_minor": 4
}
