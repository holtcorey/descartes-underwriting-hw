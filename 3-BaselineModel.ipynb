{
 "cells": [
  {
   "cell_type": "markdown",
   "metadata": {},
   "source": [
    "In this notebook, we set our workflow in order to train a machine learning model."
   ]
  },
  {
   "cell_type": "code",
   "execution_count": 9,
   "metadata": {},
   "outputs": [],
   "source": [
    "import pandas as pd\n",
    "import numpy as np\n",
    "\n",
    "import matplotlib.pyplot as plt\n",
    "from sklearn.preprocessing import OneHotEncoder"
   ]
  },
  {
   "cell_type": "code",
   "execution_count": 10,
   "metadata": {},
   "outputs": [
    {
     "data": {
      "text/html": [
       "<div>\n",
       "<style scoped>\n",
       "    .dataframe tbody tr th:only-of-type {\n",
       "        vertical-align: middle;\n",
       "    }\n",
       "\n",
       "    .dataframe tbody tr th {\n",
       "        vertical-align: top;\n",
       "    }\n",
       "\n",
       "    .dataframe thead th {\n",
       "        text-align: right;\n",
       "    }\n",
       "</style>\n",
       "<table border=\"1\" class=\"dataframe\">\n",
       "  <thead>\n",
       "    <tr style=\"text-align: right;\">\n",
       "      <th></th>\n",
       "      <th>TARGET_FLAG</th>\n",
       "      <th>KIDSDRIV</th>\n",
       "      <th>AGE</th>\n",
       "      <th>HOMEKIDS</th>\n",
       "      <th>YOJ</th>\n",
       "      <th>INCOME</th>\n",
       "      <th>PARENT1</th>\n",
       "      <th>HOME_VAL</th>\n",
       "      <th>MSTATUS</th>\n",
       "      <th>EDUCATION</th>\n",
       "      <th>...</th>\n",
       "      <th>Student</th>\n",
       "      <th>z_Blue Collar</th>\n",
       "      <th>Commercial</th>\n",
       "      <th>Minivan</th>\n",
       "      <th>Panel Truck</th>\n",
       "      <th>Pickup</th>\n",
       "      <th>Sports Car</th>\n",
       "      <th>Van</th>\n",
       "      <th>z_SUV</th>\n",
       "      <th>Highly Urban/ Urban</th>\n",
       "    </tr>\n",
       "  </thead>\n",
       "  <tbody>\n",
       "    <tr>\n",
       "      <th>0</th>\n",
       "      <td>0</td>\n",
       "      <td>0</td>\n",
       "      <td>60.0</td>\n",
       "      <td>0</td>\n",
       "      <td>11.0</td>\n",
       "      <td>11.117643</td>\n",
       "      <td>0</td>\n",
       "      <td>1.000000</td>\n",
       "      <td>0</td>\n",
       "      <td>3</td>\n",
       "      <td>...</td>\n",
       "      <td>0.0</td>\n",
       "      <td>0.0</td>\n",
       "      <td>0.0</td>\n",
       "      <td>1.0</td>\n",
       "      <td>0.0</td>\n",
       "      <td>0.0</td>\n",
       "      <td>0.0</td>\n",
       "      <td>0.0</td>\n",
       "      <td>0.0</td>\n",
       "      <td>1.0</td>\n",
       "    </tr>\n",
       "    <tr>\n",
       "      <th>1</th>\n",
       "      <td>0</td>\n",
       "      <td>0</td>\n",
       "      <td>43.0</td>\n",
       "      <td>0</td>\n",
       "      <td>11.0</td>\n",
       "      <td>11.423537</td>\n",
       "      <td>0</td>\n",
       "      <td>12.457811</td>\n",
       "      <td>0</td>\n",
       "      <td>0</td>\n",
       "      <td>...</td>\n",
       "      <td>0.0</td>\n",
       "      <td>1.0</td>\n",
       "      <td>1.0</td>\n",
       "      <td>1.0</td>\n",
       "      <td>0.0</td>\n",
       "      <td>0.0</td>\n",
       "      <td>0.0</td>\n",
       "      <td>0.0</td>\n",
       "      <td>0.0</td>\n",
       "      <td>1.0</td>\n",
       "    </tr>\n",
       "    <tr>\n",
       "      <th>2</th>\n",
       "      <td>0</td>\n",
       "      <td>0</td>\n",
       "      <td>35.0</td>\n",
       "      <td>1</td>\n",
       "      <td>10.0</td>\n",
       "      <td>9.682779</td>\n",
       "      <td>0</td>\n",
       "      <td>11.729576</td>\n",
       "      <td>1</td>\n",
       "      <td>0</td>\n",
       "      <td>...</td>\n",
       "      <td>0.0</td>\n",
       "      <td>0.0</td>\n",
       "      <td>0.0</td>\n",
       "      <td>0.0</td>\n",
       "      <td>0.0</td>\n",
       "      <td>0.0</td>\n",
       "      <td>0.0</td>\n",
       "      <td>0.0</td>\n",
       "      <td>1.0</td>\n",
       "      <td>1.0</td>\n",
       "    </tr>\n",
       "    <tr>\n",
       "      <th>3</th>\n",
       "      <td>0</td>\n",
       "      <td>0</td>\n",
       "      <td>51.0</td>\n",
       "      <td>0</td>\n",
       "      <td>14.0</td>\n",
       "      <td>NaN</td>\n",
       "      <td>0</td>\n",
       "      <td>12.632160</td>\n",
       "      <td>1</td>\n",
       "      <td>0</td>\n",
       "      <td>...</td>\n",
       "      <td>0.0</td>\n",
       "      <td>1.0</td>\n",
       "      <td>0.0</td>\n",
       "      <td>1.0</td>\n",
       "      <td>0.0</td>\n",
       "      <td>0.0</td>\n",
       "      <td>0.0</td>\n",
       "      <td>0.0</td>\n",
       "      <td>0.0</td>\n",
       "      <td>1.0</td>\n",
       "    </tr>\n",
       "    <tr>\n",
       "      <th>4</th>\n",
       "      <td>0</td>\n",
       "      <td>0</td>\n",
       "      <td>50.0</td>\n",
       "      <td>0</td>\n",
       "      <td>NaN</td>\n",
       "      <td>11.652566</td>\n",
       "      <td>0</td>\n",
       "      <td>12.404616</td>\n",
       "      <td>1</td>\n",
       "      <td>3</td>\n",
       "      <td>...</td>\n",
       "      <td>0.0</td>\n",
       "      <td>0.0</td>\n",
       "      <td>0.0</td>\n",
       "      <td>0.0</td>\n",
       "      <td>0.0</td>\n",
       "      <td>0.0</td>\n",
       "      <td>0.0</td>\n",
       "      <td>0.0</td>\n",
       "      <td>1.0</td>\n",
       "      <td>1.0</td>\n",
       "    </tr>\n",
       "  </tbody>\n",
       "</table>\n",
       "<p>5 rows × 36 columns</p>\n",
       "</div>"
      ],
      "text/plain": [
       "   TARGET_FLAG  KIDSDRIV   AGE  HOMEKIDS   YOJ     INCOME  PARENT1   HOME_VAL  \\\n",
       "0            0         0  60.0         0  11.0  11.117643        0   1.000000   \n",
       "1            0         0  43.0         0  11.0  11.423537        0  12.457811   \n",
       "2            0         0  35.0         1  10.0   9.682779        0  11.729576   \n",
       "3            0         0  51.0         0  14.0        NaN        0  12.632160   \n",
       "4            0         0  50.0         0   NaN  11.652566        0  12.404616   \n",
       "\n",
       "   MSTATUS  EDUCATION  ...  Student  z_Blue Collar  Commercial  Minivan  \\\n",
       "0        0          3  ...      0.0            0.0         0.0      1.0   \n",
       "1        0          0  ...      0.0            1.0         1.0      1.0   \n",
       "2        1          0  ...      0.0            0.0         0.0      0.0   \n",
       "3        1          0  ...      0.0            1.0         0.0      1.0   \n",
       "4        1          3  ...      0.0            0.0         0.0      0.0   \n",
       "\n",
       "   Panel Truck  Pickup  Sports Car  Van  z_SUV  Highly Urban/ Urban  \n",
       "0          0.0     0.0         0.0  0.0    0.0                  1.0  \n",
       "1          0.0     0.0         0.0  0.0    0.0                  1.0  \n",
       "2          0.0     0.0         0.0  0.0    1.0                  1.0  \n",
       "3          0.0     0.0         0.0  0.0    0.0                  1.0  \n",
       "4          0.0     0.0         0.0  0.0    1.0                  1.0  \n",
       "\n",
       "[5 rows x 36 columns]"
      ]
     },
     "execution_count": 10,
     "metadata": {},
     "output_type": "execute_result"
    }
   ],
   "source": [
    "df_train = pd.read_csv(\"notebook_insights/preprocessed_train.csv\")\n",
    "df_train.head()"
   ]
  },
  {
   "cell_type": "markdown",
   "metadata": {},
   "source": [
    "# Data preprocessing"
   ]
  },
  {
   "cell_type": "code",
   "execution_count": 11,
   "metadata": {},
   "outputs": [],
   "source": [
    "TARGET = 'TARGET_FLAG'\n",
    "\n",
    "y = df_train[TARGET].values\n",
    "X = df_train.drop(columns=TARGET)"
   ]
  },
  {
   "cell_type": "code",
   "execution_count": 12,
   "metadata": {},
   "outputs": [],
   "source": [
    "from sklearn.pipeline import Pipeline\n",
    "from sklearn.preprocessing import StandardScaler\n",
    "from sklearn.impute import SimpleImputer\n",
    "from sklearn.compose import ColumnTransformer\n",
    "\n",
    "numeric_features = ['AGE',\n",
    "                    'YOJ',\n",
    "                    'INCOME',\n",
    "                    'HOME_VAL',\n",
    "                    'BLUEBOOK',\n",
    "                    'OLDCLAIM',\n",
    "                    'CAR_AGE']\n",
    "\n",
    "numeric_transformer = Pipeline(steps=[\n",
    "    ('scaler', StandardScaler()),\n",
    "    ('imputer', SimpleImputer(missing_values = np.nan, strategy='constant', fill_value=0))])\n",
    "\n",
    "preprocessor = ColumnTransformer(\n",
    "    transformers=[\n",
    "        ('num', numeric_transformer, numeric_features),],\n",
    "    remainder='passthrough')"
   ]
  },
  {
   "cell_type": "markdown",
   "metadata": {},
   "source": [
    "# Model definition"
   ]
  },
  {
   "cell_type": "code",
   "execution_count": 13,
   "metadata": {},
   "outputs": [],
   "source": [
    "from sklearn.linear_model import LogisticRegression\n",
    "\n",
    "pipe = Pipeline(steps=[('preprocessor', preprocessor),                # In order to perform preprocessing\n",
    "                      ('clf', LogisticRegression(random_state=1,      # In order to instanciate a model\n",
    "                                                solver='liblinear',\n",
    "                                                max_iter=300))])"
   ]
  },
  {
   "cell_type": "markdown",
   "metadata": {},
   "source": [
    "# Split the data\n",
    "\n",
    "We split the data into two folds: one for searching hyperparameters, which we name X_for_gridsearch, the second is to measure the generalization power of our model, which we name X_future_validation."
   ]
  },
  {
   "cell_type": "code",
   "execution_count": 14,
   "metadata": {},
   "outputs": [],
   "source": [
    "from sklearn.model_selection import train_test_split, StratifiedKFold\n",
    "\n",
    "random_state = 4\n",
    "n_splits = 4\n",
    "\n",
    "# We keep one fold for validation\n",
    "X_for_gridsearch, X_future_validation, y_for_gridsearch, y_future_validation \\\n",
    "= train_test_split(X, y, test_size=0.1, random_state=random_state, stratify=y)\n",
    "\n",
    "# We use k-fold on the remaining data to search over hyper-parameters\n",
    "kf = StratifiedKFold(n_splits=n_splits, shuffle=True, random_state=random_state)"
   ]
  },
  {
   "cell_type": "markdown",
   "metadata": {},
   "source": [
    "# Model training\n",
    "\n",
    "We perform k-fold in order to obtain model performances."
   ]
  },
  {
   "cell_type": "code",
   "execution_count": 15,
   "metadata": {},
   "outputs": [
    {
     "name": "stdout",
     "output_type": "stream",
     "text": [
      "Fitting 4 folds for each of 12 candidates, totalling 48 fits\n"
     ]
    },
    {
     "name": "stderr",
     "output_type": "stream",
     "text": [
      "[Parallel(n_jobs=1)]: Using backend SequentialBackend with 1 concurrent workers.\n"
     ]
    },
    {
     "name": "stdout",
     "output_type": "stream",
     "text": [
      "0.5110115064182642\n"
     ]
    },
    {
     "name": "stderr",
     "output_type": "stream",
     "text": [
      "[Parallel(n_jobs=1)]: Done  48 out of  48 | elapsed:    5.4s finished\n"
     ]
    }
   ],
   "source": [
    "from sklearn.model_selection import GridSearchCV\n",
    "\n",
    "param_grid = dict(clf__penalty = ['l1', 'l2'],\n",
    "                  clf__C       = np.logspace(-2, 3, 6))\n",
    "\n",
    "grid = GridSearchCV(pipe, \n",
    "                    param_grid=param_grid,\n",
    "                    cv=kf, \n",
    "                    n_jobs=1, \n",
    "                    verbose=1,\n",
    "                    scoring='f1',\n",
    "                    return_train_score=True)\n",
    "grid.fit(X_for_gridsearch, y_for_gridsearch)\n",
    "print(grid.best_score_)"
   ]
  },
  {
   "cell_type": "code",
   "execution_count": 16,
   "metadata": {},
   "outputs": [
    {
     "data": {
      "text/html": [
       "<div>\n",
       "<style scoped>\n",
       "    .dataframe tbody tr th:only-of-type {\n",
       "        vertical-align: middle;\n",
       "    }\n",
       "\n",
       "    .dataframe tbody tr th {\n",
       "        vertical-align: top;\n",
       "    }\n",
       "\n",
       "    .dataframe thead th {\n",
       "        text-align: right;\n",
       "    }\n",
       "</style>\n",
       "<table border=\"1\" class=\"dataframe\">\n",
       "  <thead>\n",
       "    <tr style=\"text-align: right;\">\n",
       "      <th></th>\n",
       "      <th>param_clf__C</th>\n",
       "      <th>param_clf__penalty</th>\n",
       "      <th>split0_test_score</th>\n",
       "      <th>split1_test_score</th>\n",
       "      <th>split2_test_score</th>\n",
       "      <th>mean_test_score</th>\n",
       "      <th>std_test_score</th>\n",
       "      <th>rank_test_score</th>\n",
       "    </tr>\n",
       "  </thead>\n",
       "  <tbody>\n",
       "    <tr>\n",
       "      <th>9</th>\n",
       "      <td>100</td>\n",
       "      <td>l2</td>\n",
       "      <td>0.505051</td>\n",
       "      <td>0.551640</td>\n",
       "      <td>0.503145</td>\n",
       "      <td>0.511012</td>\n",
       "      <td>0.024832</td>\n",
       "      <td>1</td>\n",
       "    </tr>\n",
       "    <tr>\n",
       "      <th>11</th>\n",
       "      <td>1000</td>\n",
       "      <td>l2</td>\n",
       "      <td>0.505051</td>\n",
       "      <td>0.551640</td>\n",
       "      <td>0.503145</td>\n",
       "      <td>0.511012</td>\n",
       "      <td>0.024832</td>\n",
       "      <td>1</td>\n",
       "    </tr>\n",
       "    <tr>\n",
       "      <th>7</th>\n",
       "      <td>10</td>\n",
       "      <td>l2</td>\n",
       "      <td>0.505051</td>\n",
       "      <td>0.548780</td>\n",
       "      <td>0.503145</td>\n",
       "      <td>0.510297</td>\n",
       "      <td>0.023665</td>\n",
       "      <td>3</td>\n",
       "    </tr>\n",
       "    <tr>\n",
       "      <th>8</th>\n",
       "      <td>100</td>\n",
       "      <td>l1</td>\n",
       "      <td>0.505051</td>\n",
       "      <td>0.552311</td>\n",
       "      <td>0.498113</td>\n",
       "      <td>0.509921</td>\n",
       "      <td>0.025598</td>\n",
       "      <td>4</td>\n",
       "    </tr>\n",
       "  </tbody>\n",
       "</table>\n",
       "</div>"
      ],
      "text/plain": [
       "   param_clf__C param_clf__penalty  split0_test_score  split1_test_score  \\\n",
       "9           100                 l2           0.505051           0.551640   \n",
       "11         1000                 l2           0.505051           0.551640   \n",
       "7            10                 l2           0.505051           0.548780   \n",
       "8           100                 l1           0.505051           0.552311   \n",
       "\n",
       "    split2_test_score  mean_test_score  std_test_score  rank_test_score  \n",
       "9            0.503145         0.511012        0.024832                1  \n",
       "11           0.503145         0.511012        0.024832                1  \n",
       "7            0.503145         0.510297        0.023665                3  \n",
       "8            0.498113         0.509921        0.025598                4  "
      ]
     },
     "execution_count": 16,
     "metadata": {},
     "output_type": "execute_result"
    }
   ],
   "source": [
    "cv_results = pd.DataFrame(grid.cv_results_)\n",
    "cv_results = cv_results.sort_values(\"mean_test_score\", ascending=False)\n",
    "cv_results[['param_clf__C',\n",
    "            'param_clf__penalty', \n",
    "            'split0_test_score',\n",
    "            'split1_test_score',\n",
    "            'split2_test_score',\n",
    "            'mean_test_score',\n",
    "            'std_test_score',\n",
    "            'rank_test_score']].head(4)"
   ]
  },
  {
   "cell_type": "markdown",
   "metadata": {},
   "source": [
    "# Model evaluation\n",
    "\n",
    "We evaluate the model on the never seen validation set. The baseline is pretty low here we need either stronger model or feature engineering."
   ]
  },
  {
   "cell_type": "code",
   "execution_count": 17,
   "metadata": {},
   "outputs": [
    {
     "data": {
      "text/plain": [
       "0.5166666666666667"
      ]
     },
     "execution_count": 17,
     "metadata": {},
     "output_type": "execute_result"
    }
   ],
   "source": [
    "from sklearn.metrics import f1_score\n",
    "\n",
    "y_pred = grid.predict(X_future_validation)\n",
    "f1_score(y_future_validation, y_pred)"
   ]
  },
  {
   "cell_type": "code",
   "execution_count": null,
   "metadata": {},
   "outputs": [],
   "source": []
  }
 ],
 "metadata": {
  "kernelspec": {
   "display_name": "Python 3",
   "language": "python",
   "name": "python3"
  },
  "language_info": {
   "codemirror_mode": {
    "name": "ipython",
    "version": 3
   },
   "file_extension": ".py",
   "mimetype": "text/x-python",
   "name": "python",
   "nbconvert_exporter": "python",
   "pygments_lexer": "ipython3",
   "version": "3.8.3"
  }
 },
 "nbformat": 4,
 "nbformat_minor": 4
}
