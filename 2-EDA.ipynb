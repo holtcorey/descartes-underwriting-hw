{
 "cells": [
  {
   "cell_type": "markdown",
   "metadata": {},
   "source": [
    "In this notebook, we provide some qualitative analysis of our data. We drop row with nan values for simplicity (but we will perform missing data inputing for learning, in the next notebook)."
   ]
  },
  {
   "cell_type": "code",
   "execution_count": 1,
   "metadata": {},
   "outputs": [],
   "source": [
    "import pandas as pd\n",
    "import numpy as np\n",
    "\n",
    "import matplotlib.pyplot as plt\n",
    "import seaborn as sns; sns.set(); sns.set_style('whitegrid')\n",
    "\n",
    "from sklearn.preprocessing import OneHotEncoder"
   ]
  },
  {
   "cell_type": "code",
   "execution_count": 2,
   "metadata": {},
   "outputs": [
    {
     "data": {
      "text/html": [
       "<div>\n",
       "<style scoped>\n",
       "    .dataframe tbody tr th:only-of-type {\n",
       "        vertical-align: middle;\n",
       "    }\n",
       "\n",
       "    .dataframe tbody tr th {\n",
       "        vertical-align: top;\n",
       "    }\n",
       "\n",
       "    .dataframe thead th {\n",
       "        text-align: right;\n",
       "    }\n",
       "</style>\n",
       "<table border=\"1\" class=\"dataframe\">\n",
       "  <thead>\n",
       "    <tr style=\"text-align: right;\">\n",
       "      <th></th>\n",
       "      <th>TARGET_FLAG</th>\n",
       "      <th>KIDSDRIV</th>\n",
       "      <th>AGE</th>\n",
       "      <th>HOMEKIDS</th>\n",
       "      <th>YOJ</th>\n",
       "      <th>INCOME</th>\n",
       "      <th>PARENT1</th>\n",
       "      <th>HOME_VAL</th>\n",
       "      <th>MSTATUS</th>\n",
       "      <th>EDUCATION</th>\n",
       "      <th>...</th>\n",
       "      <th>Student</th>\n",
       "      <th>z_Blue Collar</th>\n",
       "      <th>Commercial</th>\n",
       "      <th>Minivan</th>\n",
       "      <th>Panel Truck</th>\n",
       "      <th>Pickup</th>\n",
       "      <th>Sports Car</th>\n",
       "      <th>Van</th>\n",
       "      <th>z_SUV</th>\n",
       "      <th>Highly Urban/ Urban</th>\n",
       "    </tr>\n",
       "  </thead>\n",
       "  <tbody>\n",
       "    <tr>\n",
       "      <th>0</th>\n",
       "      <td>0</td>\n",
       "      <td>0</td>\n",
       "      <td>60.0</td>\n",
       "      <td>0</td>\n",
       "      <td>11.0</td>\n",
       "      <td>11.117643</td>\n",
       "      <td>0</td>\n",
       "      <td>1.000000</td>\n",
       "      <td>0</td>\n",
       "      <td>3</td>\n",
       "      <td>...</td>\n",
       "      <td>0.0</td>\n",
       "      <td>0.0</td>\n",
       "      <td>0.0</td>\n",
       "      <td>1.0</td>\n",
       "      <td>0.0</td>\n",
       "      <td>0.0</td>\n",
       "      <td>0.0</td>\n",
       "      <td>0.0</td>\n",
       "      <td>0.0</td>\n",
       "      <td>1.0</td>\n",
       "    </tr>\n",
       "    <tr>\n",
       "      <th>1</th>\n",
       "      <td>0</td>\n",
       "      <td>0</td>\n",
       "      <td>43.0</td>\n",
       "      <td>0</td>\n",
       "      <td>11.0</td>\n",
       "      <td>11.423537</td>\n",
       "      <td>0</td>\n",
       "      <td>12.457811</td>\n",
       "      <td>0</td>\n",
       "      <td>0</td>\n",
       "      <td>...</td>\n",
       "      <td>0.0</td>\n",
       "      <td>1.0</td>\n",
       "      <td>1.0</td>\n",
       "      <td>1.0</td>\n",
       "      <td>0.0</td>\n",
       "      <td>0.0</td>\n",
       "      <td>0.0</td>\n",
       "      <td>0.0</td>\n",
       "      <td>0.0</td>\n",
       "      <td>1.0</td>\n",
       "    </tr>\n",
       "    <tr>\n",
       "      <th>2</th>\n",
       "      <td>0</td>\n",
       "      <td>0</td>\n",
       "      <td>35.0</td>\n",
       "      <td>1</td>\n",
       "      <td>10.0</td>\n",
       "      <td>9.682779</td>\n",
       "      <td>0</td>\n",
       "      <td>11.729576</td>\n",
       "      <td>1</td>\n",
       "      <td>0</td>\n",
       "      <td>...</td>\n",
       "      <td>0.0</td>\n",
       "      <td>0.0</td>\n",
       "      <td>0.0</td>\n",
       "      <td>0.0</td>\n",
       "      <td>0.0</td>\n",
       "      <td>0.0</td>\n",
       "      <td>0.0</td>\n",
       "      <td>0.0</td>\n",
       "      <td>1.0</td>\n",
       "      <td>1.0</td>\n",
       "    </tr>\n",
       "    <tr>\n",
       "      <th>5</th>\n",
       "      <td>1</td>\n",
       "      <td>0</td>\n",
       "      <td>34.0</td>\n",
       "      <td>1</td>\n",
       "      <td>12.0</td>\n",
       "      <td>11.738474</td>\n",
       "      <td>1</td>\n",
       "      <td>1.000000</td>\n",
       "      <td>0</td>\n",
       "      <td>1</td>\n",
       "      <td>...</td>\n",
       "      <td>0.0</td>\n",
       "      <td>1.0</td>\n",
       "      <td>1.0</td>\n",
       "      <td>0.0</td>\n",
       "      <td>0.0</td>\n",
       "      <td>0.0</td>\n",
       "      <td>1.0</td>\n",
       "      <td>0.0</td>\n",
       "      <td>0.0</td>\n",
       "      <td>1.0</td>\n",
       "    </tr>\n",
       "    <tr>\n",
       "      <th>8</th>\n",
       "      <td>1</td>\n",
       "      <td>0</td>\n",
       "      <td>34.0</td>\n",
       "      <td>0</td>\n",
       "      <td>10.0</td>\n",
       "      <td>11.050541</td>\n",
       "      <td>0</td>\n",
       "      <td>1.000000</td>\n",
       "      <td>0</td>\n",
       "      <td>1</td>\n",
       "      <td>...</td>\n",
       "      <td>0.0</td>\n",
       "      <td>0.0</td>\n",
       "      <td>0.0</td>\n",
       "      <td>0.0</td>\n",
       "      <td>0.0</td>\n",
       "      <td>0.0</td>\n",
       "      <td>0.0</td>\n",
       "      <td>0.0</td>\n",
       "      <td>1.0</td>\n",
       "      <td>1.0</td>\n",
       "    </tr>\n",
       "  </tbody>\n",
       "</table>\n",
       "<p>5 rows × 36 columns</p>\n",
       "</div>"
      ],
      "text/plain": [
       "   TARGET_FLAG  KIDSDRIV   AGE  HOMEKIDS   YOJ     INCOME  PARENT1   HOME_VAL  \\\n",
       "0            0         0  60.0         0  11.0  11.117643        0   1.000000   \n",
       "1            0         0  43.0         0  11.0  11.423537        0  12.457811   \n",
       "2            0         0  35.0         1  10.0   9.682779        0  11.729576   \n",
       "5            1         0  34.0         1  12.0  11.738474        1   1.000000   \n",
       "8            1         0  34.0         0  10.0  11.050541        0   1.000000   \n",
       "\n",
       "   MSTATUS  EDUCATION  ...  Student  z_Blue Collar  Commercial  Minivan  \\\n",
       "0        0          3  ...      0.0            0.0         0.0      1.0   \n",
       "1        0          0  ...      0.0            1.0         1.0      1.0   \n",
       "2        1          0  ...      0.0            0.0         0.0      0.0   \n",
       "5        0          1  ...      0.0            1.0         1.0      0.0   \n",
       "8        0          1  ...      0.0            0.0         0.0      0.0   \n",
       "\n",
       "   Panel Truck  Pickup  Sports Car  Van  z_SUV  Highly Urban/ Urban  \n",
       "0          0.0     0.0         0.0  0.0    0.0                  1.0  \n",
       "1          0.0     0.0         0.0  0.0    0.0                  1.0  \n",
       "2          0.0     0.0         0.0  0.0    1.0                  1.0  \n",
       "5          0.0     0.0         1.0  0.0    0.0                  1.0  \n",
       "8          0.0     0.0         0.0  0.0    1.0                  1.0  \n",
       "\n",
       "[5 rows x 36 columns]"
      ]
     },
     "execution_count": 2,
     "metadata": {},
     "output_type": "execute_result"
    }
   ],
   "source": [
    "df_train = pd.read_csv(\"notebook_insights/preprocessed_train.csv\")\n",
    "df_train = df_train.dropna()\n",
    "df_train.head()"
   ]
  },
  {
   "cell_type": "markdown",
   "metadata": {},
   "source": [
    "# Visualize distribution\n",
    "\n",
    "We propose first to visualize the distribution of each features. We see that the majority of the features are categorical."
   ]
  },
  {
   "cell_type": "code",
   "execution_count": null,
   "metadata": {},
   "outputs": [],
   "source": [
    "df_train.hist(bins=50, figsize=(20,20), color='navy')\n",
    "plt.show()"
   ]
  },
  {
   "cell_type": "markdown",
   "metadata": {},
   "source": [
    "# Impact of some numerical features\n",
    "\n",
    "The obs with positive and negative target_flag has the same mean for age, YOJ, TRAVTIME, TIF."
   ]
  },
  {
   "cell_type": "code",
   "execution_count": null,
   "metadata": {},
   "outputs": [],
   "source": [
    "for column in ['AGE',\n",
    "                'YOJ',\n",
    "                'TRAVTIME',\n",
    "                'TIF']:\n",
    "    \n",
    "    sns.catplot(data=df_train[['TARGET_FLAG',column]],x='TARGET_FLAG', y=column, kind=\"box\")\n",
    "    plt.title('Impact of {}'.format(column))\n",
    "    plt.show()"
   ]
  },
  {
   "cell_type": "markdown",
   "metadata": {},
   "source": [
    "There are visual differences between the boxplots for the income, home_val, oldclaim, car_age variables."
   ]
  },
  {
   "cell_type": "code",
   "execution_count": null,
   "metadata": {},
   "outputs": [],
   "source": [
    "for column in ['INCOME',\n",
    "                'HOME_VAL',\n",
    "                'OLDCLAIM',\n",
    "                'CAR_AGE']:\n",
    "    \n",
    "    sns.catplot(data=df_train[['TARGET_FLAG',column]],x='TARGET_FLAG', y=column, kind=\"box\")\n",
    "    plt.title('Impact of {}'.format(column))\n",
    "    plt.show()"
   ]
  },
  {
   "cell_type": "markdown",
   "metadata": {},
   "source": [
    "## Impact of categorical features\n",
    "\n",
    "Here, we visualize the impact of some categorical features on the target variable. For instance, the feature 'Highly Urban/ Urban' seems highly correlated to the output."
   ]
  },
  {
   "cell_type": "code",
   "execution_count": null,
   "metadata": {},
   "outputs": [],
   "source": [
    "for column in [ 'KIDSDRIV',\n",
    "            'HOMEKIDS',\n",
    "            'PARENT1',\n",
    "            'MSTATUS',\n",
    "            'CLM_FREQ',\n",
    "            'z_SUV',\n",
    "            'Highly Urban/ Urban',\n",
    "            'Lawyer']:\n",
    "\n",
    "    df_train.groupby(column).mean()['TARGET_FLAG'].plot.barh()\n",
    "    plt.xlabel('% of TARGET_FLAG')\n",
    "    plt.title('Impact of {}'.format(column))\n",
    "    plt.show()"
   ]
  },
  {
   "cell_type": "markdown",
   "metadata": {},
   "source": [
    "# Heatmap\n",
    "\n",
    "We can then visualize the correlation of each features."
   ]
  },
  {
   "cell_type": "code",
   "execution_count": null,
   "metadata": {},
   "outputs": [],
   "source": [
    "f, ax = plt.subplots(figsize=(10, 8))\n",
    "corr = df_train.corr()\n",
    "sns.heatmap(corr, mask=np.zeros_like(corr, dtype=np.bool), cmap=sns.diverging_palette(220, 10, as_cmap=True),\n",
    "            square=True, ax=ax)\n",
    "plt.title('Correlation matrix')\n",
    "plt.show()"
   ]
  },
  {
   "cell_type": "markdown",
   "metadata": {},
   "source": [
    "We focus on correlation between the features and the target variable."
   ]
  },
  {
   "cell_type": "code",
   "execution_count": null,
   "metadata": {},
   "outputs": [],
   "source": [
    "corr.sort_values(by='TARGET_FLAG', ascending=False)['TARGET_FLAG']"
   ]
  },
  {
   "cell_type": "markdown",
   "metadata": {},
   "source": [
    "We may drop the features with small correlation with the target variable."
   ]
  },
  {
   "cell_type": "code",
   "execution_count": null,
   "metadata": {},
   "outputs": [],
   "source": [
    "corr_values      = np.abs(corr['TARGET_FLAG'])\n",
    "low_corr_bool    = corr_values < 0.08\n",
    "low_corr_columns = corr_values[low_corr_bool].index\n",
    "print(low_corr_columns)"
   ]
  },
  {
   "cell_type": "markdown",
   "metadata": {},
   "source": [
    "# TSNE\n",
    "\n",
    "We can visualize a 2D projection to get a summary of the data. To this end, we can either use PCA or TSNE."
   ]
  },
  {
   "cell_type": "code",
   "execution_count": null,
   "metadata": {},
   "outputs": [],
   "source": [
    "TARGET = 'TARGET_FLAG'\n",
    "y = df_train[TARGET].values\n",
    "df_train.drop(columns=TARGET, inplace=True)\n",
    "df_train.reset_index(inplace=True)\n",
    "X = df_train\n",
    "X = X.drop(columns=low_corr_columns)\n",
    "X = X.drop(columns=['index'])\n",
    "X.head()"
   ]
  },
  {
   "cell_type": "markdown",
   "metadata": {},
   "source": [
    "We need to preprocess the data in order to enhance the projection quality."
   ]
  },
  {
   "cell_type": "code",
   "execution_count": null,
   "metadata": {},
   "outputs": [],
   "source": [
    "from sklearn.pipeline import Pipeline\n",
    "from sklearn.preprocessing import StandardScaler\n",
    "from sklearn.impute import SimpleImputer\n",
    "from sklearn.compose import ColumnTransformer\n",
    "from sklearn.manifold import TSNE\n",
    "\n",
    "# Preprocessing\n",
    "numeric_features = ['AGE',\n",
    "                    'INCOME',\n",
    "                    'HOME_VAL',\n",
    "                    'BLUEBOOK',\n",
    "                    'OLDCLAIM',\n",
    "                    'CAR_AGE']\n",
    "\n",
    "numeric_transformer = Pipeline(steps=[\n",
    "    ('scaler', StandardScaler()),\n",
    "    ('imputer', SimpleImputer(missing_values=np.nan, strategy='constant', fill_value=0))])\n",
    "\n",
    "preprocessor = ColumnTransformer(\n",
    "    transformers=[\n",
    "        ('num', numeric_transformer, numeric_features),],\n",
    "    remainder='passthrough')\n",
    "\n",
    "X = preprocessor.fit_transform(X)\n",
    "\n",
    "# TSNE: Projection into 2D Space\n",
    "\n",
    "X_embedded = TSNE(n_components=2).fit_transform(X)"
   ]
  },
  {
   "cell_type": "code",
   "execution_count": null,
   "metadata": {},
   "outputs": [],
   "source": [
    "LABEL = 'CLM_FREQ'\n",
    "values = df_train[LABEL].value_counts().index\n",
    "for value in values:\n",
    "    idx = df_train[(df_train[LABEL] == value)].index\n",
    "    plt.scatter(X_embedded[idx, 0], X_embedded[idx, 1], label=value)\n",
    "    idx = np.where(df_train[LABEL] == value)[0]\n",
    "plt.legend()\n",
    "plt.title('2D Projection, with colors representing {} distribution'.format(LABEL))\n",
    "plt.show()"
   ]
  },
  {
   "cell_type": "code",
   "execution_count": null,
   "metadata": {},
   "outputs": [],
   "source": []
  },
  {
   "cell_type": "code",
   "execution_count": null,
   "metadata": {},
   "outputs": [],
   "source": []
  }
 ],
 "metadata": {
  "kernelspec": {
   "display_name": "Python 3",
   "language": "python",
   "name": "python3"
  },
  "language_info": {
   "codemirror_mode": {
    "name": "ipython",
    "version": 3
   },
   "file_extension": ".py",
   "mimetype": "text/x-python",
   "name": "python",
   "nbconvert_exporter": "python",
   "pygments_lexer": "ipython3",
   "version": "3.8.3"
  }
 },
 "nbformat": 4,
 "nbformat_minor": 4
}
